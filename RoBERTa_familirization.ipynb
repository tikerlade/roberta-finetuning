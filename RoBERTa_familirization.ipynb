{
 "cells": [
  {
   "cell_type": "markdown",
   "metadata": {},
   "source": [
    "# RoBERTa fine-tuning\n"
   ]
  },
  {
   "cell_type": "markdown",
   "metadata": {},
   "source": [
    "## Imports"
   ]
  },
  {
   "cell_type": "code",
   "execution_count": 1,
   "metadata": {
    "ExecuteTime": {
     "end_time": "2021-04-03T18:29:48.530935Z",
     "start_time": "2021-04-03T18:29:46.985224Z"
    }
   },
   "outputs": [],
   "source": [
    "from transformers import RobertaConfig, RobertaModel, RobertaTokenizer\n",
    "import torch\n",
    "\n",
    "from pathlib import Path\n",
    "\n",
    "import numpy as np\n",
    "import pandas as pd\n",
    "from sklearn.metrics import accuracy_score\n",
    "from tqdm.notebook import tqdm\n",
    "from matplotlib import pyplot as plt\n",
    "from scipy.special import softmax\n",
    "\n",
    "import yaml\n",
    "\n",
    "# Local imports\n",
    "from model import RoBERTaClassification\n",
    "from data import read_data\n",
    "from utils import get_report\n",
    "\n",
    "%matplotlib inline"
   ]
  },
  {
   "cell_type": "code",
   "execution_count": 2,
   "metadata": {
    "ExecuteTime": {
     "end_time": "2021-04-03T18:29:48.541195Z",
     "start_time": "2021-04-03T18:29:48.532746Z"
    }
   },
   "outputs": [],
   "source": [
    "with open(\"config.yml\") as f:\n",
    "    params = yaml.load(f, Loader=yaml.FullLoader)"
   ]
  },
  {
   "cell_type": "markdown",
   "metadata": {},
   "source": [
    "## Dataset import\n",
    "The following steps are done in `generate_data.py`:\n",
    "* Load [dataset](https://huggingface.co/datasets/tweets_hate_speech_detection)\n",
    "* Split dataset into `train` / `validation` / `test` (60/20/20)\n",
    "* Save data into files"
   ]
  },
  {
   "cell_type": "code",
   "execution_count": 3,
   "metadata": {
    "ExecuteTime": {
     "end_time": "2021-04-03T12:27:33.865272Z",
     "start_time": "2021-04-03T12:27:33.862893Z"
    }
   },
   "outputs": [],
   "source": [
    "# You can uncomment this line to re-generate data files\n",
    "# !python generate_data.py"
   ]
  },
  {
   "cell_type": "code",
   "execution_count": 3,
   "metadata": {
    "ExecuteTime": {
     "end_time": "2021-04-03T18:29:49.490356Z",
     "start_time": "2021-04-03T18:29:49.429727Z"
    }
   },
   "outputs": [
    {
     "name": "stdout",
     "output_type": "stream",
     "text": [
      "Shapes (train/val/test): 19177/6393/6392\n"
     ]
    },
    {
     "data": {
      "text/html": [
       "<div>\n",
       "<style scoped>\n",
       "    .dataframe tbody tr th:only-of-type {\n",
       "        vertical-align: middle;\n",
       "    }\n",
       "\n",
       "    .dataframe tbody tr th {\n",
       "        vertical-align: top;\n",
       "    }\n",
       "\n",
       "    .dataframe thead th {\n",
       "        text-align: right;\n",
       "    }\n",
       "</style>\n",
       "<table border=\"1\" class=\"dataframe\">\n",
       "  <thead>\n",
       "    <tr style=\"text-align: right;\">\n",
       "      <th></th>\n",
       "      <th>label</th>\n",
       "      <th>tweet</th>\n",
       "    </tr>\n",
       "  </thead>\n",
       "  <tbody>\n",
       "    <tr>\n",
       "      <th>0</th>\n",
       "      <td>1</td>\n",
       "      <td>sea shepherd suppoers are racist!   #antiracis...</td>\n",
       "    </tr>\n",
       "    <tr>\n",
       "      <th>1</th>\n",
       "      <td>0</td>\n",
       "      <td>happy is doesn't mean forever because there's ...</td>\n",
       "    </tr>\n",
       "    <tr>\n",
       "      <th>2</th>\n",
       "      <td>0</td>\n",
       "      <td>finally a cooler breezy day! i'm so  !</td>\n",
       "    </tr>\n",
       "    <tr>\n",
       "      <th>3</th>\n",
       "      <td>0</td>\n",
       "      <td>i helped someone work thru a paicularly tricky...</td>\n",
       "    </tr>\n",
       "    <tr>\n",
       "      <th>4</th>\n",
       "      <td>0</td>\n",
       "      <td>i am enchanting. #i_am #positive #affirmation ...</td>\n",
       "    </tr>\n",
       "  </tbody>\n",
       "</table>\n",
       "</div>"
      ],
      "text/plain": [
       "   label                                              tweet\n",
       "0      1  sea shepherd suppoers are racist!   #antiracis...\n",
       "1      0  happy is doesn't mean forever because there's ...\n",
       "2      0             finally a cooler breezy day! i'm so  !\n",
       "3      0  i helped someone work thru a paicularly tricky...\n",
       "4      0  i am enchanting. #i_am #positive #affirmation ..."
      ]
     },
     "execution_count": 3,
     "metadata": {},
     "output_type": "execute_result"
    }
   ],
   "source": [
    "# Load splitted dataset\n",
    "train_data = pd.read_csv(Path(params[\"data\"][\"path_to_data\"]) / params[\"data\"][\"train_filename\"])\n",
    "valid_data = pd.read_csv(Path(params[\"data\"][\"path_to_data\"]) / params[\"data\"][\"validation_filename\"])\n",
    "test_data = pd.read_csv(Path(params[\"data\"][\"path_to_data\"]) / params[\"data\"][\"test_filename\"])\n",
    "\n",
    "# Basic information\n",
    "print(f'Shapes (train/val/test): {train_data.shape[0]}/{valid_data.shape[0]}/{test_data.shape[0]}')\n",
    "test_data.head()"
   ]
  },
  {
   "cell_type": "markdown",
   "metadata": {},
   "source": [
    "## EDA\n",
    "Summary:\n",
    "\n",
    "* Имеется дизбаланс классов: 29753 / 2209 (0 - 93%/ 1 - 7%)\n",
    "* Длина твитов с `hate speech` и без него имеют одинаковое распределение"
   ]
  },
  {
   "cell_type": "code",
   "execution_count": 4,
   "metadata": {
    "ExecuteTime": {
     "end_time": "2021-04-03T18:29:51.556970Z",
     "start_time": "2021-04-03T18:29:51.541980Z"
    }
   },
   "outputs": [
    {
     "name": "stdout",
     "output_type": "stream",
     "text": [
      "(31962, 2)\n"
     ]
    },
    {
     "data": {
      "text/html": [
       "<div>\n",
       "<style scoped>\n",
       "    .dataframe tbody tr th:only-of-type {\n",
       "        vertical-align: middle;\n",
       "    }\n",
       "\n",
       "    .dataframe tbody tr th {\n",
       "        vertical-align: top;\n",
       "    }\n",
       "\n",
       "    .dataframe thead th {\n",
       "        text-align: right;\n",
       "    }\n",
       "</style>\n",
       "<table border=\"1\" class=\"dataframe\">\n",
       "  <thead>\n",
       "    <tr style=\"text-align: right;\">\n",
       "      <th></th>\n",
       "      <th>label</th>\n",
       "      <th>tweet</th>\n",
       "    </tr>\n",
       "  </thead>\n",
       "  <tbody>\n",
       "    <tr>\n",
       "      <th>0</th>\n",
       "      <td>0</td>\n",
       "      <td>some of our lovely clients happy with their tr...</td>\n",
       "    </tr>\n",
       "    <tr>\n",
       "      <th>1</th>\n",
       "      <td>0</td>\n",
       "      <td>be   n #healthy how many cares one loses when ...</td>\n",
       "    </tr>\n",
       "    <tr>\n",
       "      <th>2</th>\n",
       "      <td>0</td>\n",
       "      <td>so   so #young #ripchristina</td>\n",
       "    </tr>\n",
       "    <tr>\n",
       "      <th>3</th>\n",
       "      <td>0</td>\n",
       "      <td>~just enjoying life.   ð</td>\n",
       "    </tr>\n",
       "    <tr>\n",
       "      <th>4</th>\n",
       "      <td>0</td>\n",
       "      <td>i am thankful for my friends. #thankful #posit...</td>\n",
       "    </tr>\n",
       "  </tbody>\n",
       "</table>\n",
       "</div>"
      ],
      "text/plain": [
       "   label                                              tweet\n",
       "0      0  some of our lovely clients happy with their tr...\n",
       "1      0  be   n #healthy how many cares one loses when ...\n",
       "2      0                      so   so #young #ripchristina \n",
       "3      0                       ~just enjoying life.   ð \n",
       "4      0  i am thankful for my friends. #thankful #posit..."
      ]
     },
     "execution_count": 4,
     "metadata": {},
     "output_type": "execute_result"
    }
   ],
   "source": [
    "# Generate general dataset for EDA\n",
    "data = pd.concat([train_data, valid_data, test_data])\n",
    "\n",
    "print(data.shape)\n",
    "data.head()"
   ]
  },
  {
   "cell_type": "code",
   "execution_count": 5,
   "metadata": {
    "ExecuteTime": {
     "end_time": "2021-04-03T18:29:52.758174Z",
     "start_time": "2021-04-03T18:29:52.044749Z"
    },
    "scrolled": false
   },
   "outputs": [
    {
     "name": "stdout",
     "output_type": "stream",
     "text": [
      "Classes balance:\n",
      "0 class: 29720 samples (0.93)\n",
      "1 class: 2242  samples (0.07)\n",
      "\n",
      "Length information:\n"
     ]
    },
    {
     "data": {
      "image/png": "[encoded data removed]",
      "text/plain": [
       "<Figure size 432x288 with 1 Axes>"
      ]
     },
     "metadata": {
      "needs_background": "light"
     },
     "output_type": "display_data"
    }
   ],
   "source": [
    "neg_class_count = data['label'].tolist().count(0)\n",
    "pos_class_count = data['label'].tolist().count(1)\n",
    "total_count = data.shape[0]\n",
    "\n",
    "print('Classes balance:')\n",
    "print(f'0 class: {neg_class_count} samples ({round(neg_class_count/total_count, 2)})')\n",
    "print(f'1 class: {pos_class_count}  samples ({round(pos_class_count/total_count, 2)})\\n')\n",
    "\n",
    "print('Length information:')\n",
    "data.query('label == 0')['tweet'].apply(len).plot.kde(color='b', alpha=0.5, label='0')\n",
    "data.query('label == 1')['tweet'].apply(len).plot.kde(color='r', alpha=0.5, label='1')\n",
    "\n",
    "plt.legend()\n",
    "plt.show()"
   ]
  },
  {
   "cell_type": "markdown",
   "metadata": {},
   "source": [
    "## Before fine-tuning"
   ]
  },
  {
   "cell_type": "code",
   "execution_count": 7,
   "metadata": {
    "ExecuteTime": {
     "end_time": "2021-04-03T12:28:09.614590Z",
     "start_time": "2021-04-03T12:27:40.203762Z"
    },
    "collapsed": true
   },
   "outputs": [
    {
     "name": "stderr",
     "output_type": "stream",
     "text": [
      "Some weights of the model checkpoint at facebook/bart-large-mnli were not used when initializing BartModel: ['model.encoder.version', 'model.decoder.version']\n",
      "- This IS expected if you are initializing BartModel from the checkpoint of a model trained on another task or with another architecture (e.g. initializing a BertForSequenceClassification model from a BertForPreTraining model).\n",
      "- This IS NOT expected if you are initializing BartModel from the checkpoint of a model that you expect to be exactly identical (initializing a BertForSequenceClassification model from a BertForSequenceClassification model).\n",
      "Some weights of the model checkpoint at facebook/bart-large-mnli were not used when initializing BartForSequenceClassification: ['model.encoder.version', 'model.decoder.version']\n",
      "- This IS expected if you are initializing BartForSequenceClassification from the checkpoint of a model trained on another task or with another architecture (e.g. initializing a BertForSequenceClassification model from a BertForPreTraining model).\n",
      "- This IS NOT expected if you are initializing BartForSequenceClassification from the checkpoint of a model that you expect to be exactly identical (initializing a BertForSequenceClassification model from a BertForSequenceClassification model).\n"
     ]
    }
   ],
   "source": [
    "# Load model for zero-shot-classification\n",
    "from transformers import pipeline\n",
    "classifier = pipeline('zero-shot-classification')"
   ]
  },
  {
   "cell_type": "code",
   "execution_count": 8,
   "metadata": {
    "ExecuteTime": {
     "end_time": "2021-04-03T14:29:40.020961Z",
     "start_time": "2021-04-03T12:28:09.617253Z"
    },
    "scrolled": true
   },
   "outputs": [
    {
     "data": {
      "application/vnd.jupyter.widget-view+json": {
       "model_id": "9724d6491dd74eaca5469a41abf7f8ca",
       "version_major": 2,
       "version_minor": 0
      },
      "text/plain": [
       "HBox(children=(FloatProgress(value=0.0, max=6392.0), HTML(value='')))"
      ]
     },
     "metadata": {},
     "output_type": "display_data"
    },
    {
     "name": "stdout",
     "output_type": "stream",
     "text": [
      "\n"
     ]
    }
   ],
   "source": [
    "sequences = test_data['tweet'].values.tolist()\n",
    "labels = ['sexism', 'racism', 'hate speech']\n",
    "batch_size = 1\n",
    "zero_shot_predictions = []\n",
    "\n",
    "for idx in tqdm(range(len(sequences))):\n",
    "    res = classifier(sequences[idx], labels, multi_label=True)\n",
    "    \n",
    "    output = {}\n",
    "    for label, score in zip(res['labels'], res['scores']):\n",
    "        output[label] = score\n",
    "    zero_shot_predictions.append(output)"
   ]
  },
  {
   "cell_type": "code",
   "execution_count": 9,
   "metadata": {
    "ExecuteTime": {
     "end_time": "2021-04-03T14:29:40.081677Z",
     "start_time": "2021-04-03T14:29:40.022442Z"
    }
   },
   "outputs": [],
   "source": [
    "with open(params[\"data\"][\"path_to_test_zero_shot\"], 'w') as fout:\n",
    "    json.dump(zero_shot_predictions, fout)"
   ]
  },
  {
   "cell_type": "markdown",
   "metadata": {},
   "source": [
    "## Training"
   ]
  },
  {
   "cell_type": "code",
   "execution_count": 6,
   "metadata": {
    "ExecuteTime": {
     "end_time": "2021-04-03T18:30:01.110922Z",
     "start_time": "2021-04-03T18:30:00.981011Z"
    }
   },
   "outputs": [],
   "source": [
    "from pathlib import Path\n",
    "\n",
    "import numpy as np\n",
    "import torch\n",
    "import yaml\n",
    "from catalyst.dl import SupervisedRunner\n",
    "from catalyst.dl.callbacks import (\n",
    "    AccuracyCallback,\n",
    "    CheckpointCallback,\n",
    "    InferCallback,\n",
    "    OptimizerCallback,\n",
    ")\n",
    "from catalyst.utils import prepare_cudnn, set_global_seed"
   ]
  },
  {
   "cell_type": "code",
   "execution_count": 7,
   "metadata": {
    "ExecuteTime": {
     "end_time": "2021-04-03T18:30:16.731678Z",
     "start_time": "2021-04-03T18:30:01.462807Z"
    }
   },
   "outputs": [],
   "source": [
    "# read and process data\n",
    "train_val_loaders, test_loaders = read_data(params)\n",
    "\n",
    "# initialize the model\n",
    "model = RoBERTaClassification(\n",
    "    pretrained_model_name=params[\"model\"][\"model_name\"],\n",
    "    num_classes=params[\"model\"][\"num_classes\"]\n",
    ")\n",
    "\n",
    "# specify criterion for the multi-class classification task, optimizer and scheduler\n",
    "criterion = torch.nn.CrossEntropyLoss()\n",
    "optimizer = torch.optim.Adam(\n",
    "    model.parameters(), lr=float(params[\"training\"][\"learn_rate\"])\n",
    ")\n",
    "scheduler = torch.optim.lr_scheduler.ReduceLROnPlateau(optimizer)\n",
    "\n",
    "# reproducibility\n",
    "set_global_seed(params[\"general\"][\"seed\"])\n",
    "# prepare_cudnn(deterministic=True)\n",
    "\n",
    "# here we specify that we pass masks to the runner. So model's forward method will be called with\n",
    "# these arguments passed to it.\n",
    "runner = SupervisedRunner(input_key=(\"features\", \"attention_mask\"))"
   ]
  },
  {
   "cell_type": "markdown",
   "metadata": {},
   "source": [
    "## Running training"
   ]
  },
  {
   "cell_type": "code",
   "execution_count": 8,
   "metadata": {
    "ExecuteTime": {
     "end_time": "2021-04-03T18:30:16.736768Z",
     "start_time": "2021-04-03T18:30:16.732970Z"
    }
   },
   "outputs": [],
   "source": [
    "import os\n",
    "os.environ[\"CUDA_VISIBLE_DEVICES\"] = \"\""
   ]
  },
  {
   "cell_type": "code",
   "execution_count": 9,
   "metadata": {
    "ExecuteTime": {
     "end_time": "2021-04-03T19:41:44.315060Z",
     "start_time": "2021-04-03T18:30:16.738201Z"
    }
   },
   "outputs": [
    {
     "name": "stdout",
     "output_type": "stream",
     "text": [
      "1/1 * Epoch (train): 100% 300/300 [1:03:39<00:00, 12.73s/it, accuracy01=0.976, loss=0.077]\n",
      "1/1 * Epoch (valid): 100% 100/100 [07:05<00:00,  4.25s/it, accuracy01=0.965, loss=0.084]\n",
      "[2021-04-03 22:41:00,994] \n",
      "1/1 * Epoch 1 (_base): lr=3.000e-05 | momentum=0.9000\n",
      "1/1 * Epoch 1 (train): accuracy01=0.9332 | loss=0.1723\n",
      "1/1 * Epoch 1 (valid): accuracy01=0.9661 | loss=0.0987\n",
      "Top best models:\n",
      "logdir/checkpoints/train.1.pth\t0.0987\n"
     ]
    }
   ],
   "source": [
    "# finally, training the model with Catalyst\n",
    "runner.train(\n",
    "    model=model,\n",
    "    criterion=criterion,\n",
    "    optimizer=optimizer,\n",
    "    scheduler=scheduler,\n",
    "    loaders=train_val_loaders,\n",
    "    callbacks=[\n",
    "        AccuracyCallback(num_classes=int(params[\"model\"][\"num_classes\"])),\n",
    "        OptimizerCallback(accumulation_steps=int(params[\"training\"][\"accum_steps\"])),\n",
    "    ],\n",
    "    logdir=params[\"training\"][\"log_dir\"],\n",
    "    num_epochs=int(params[\"training\"][\"num_epochs\"]),\n",
    "    verbose=True,\n",
    ")"
   ]
  },
  {
   "cell_type": "markdown",
   "metadata": {},
   "source": [
    "## Evaluation"
   ]
  },
  {
   "cell_type": "code",
   "execution_count": 10,
   "metadata": {
    "ExecuteTime": {
     "end_time": "2021-04-03T19:48:39.730757Z",
     "start_time": "2021-04-03T19:41:44.318904Z"
    }
   },
   "outputs": [
    {
     "name": "stdout",
     "output_type": "stream",
     "text": [
      "=> Loading checkpoint logdir/checkpoints/best.pth\n",
      "loaded state checkpoint logdir/checkpoints/best.pth (global epoch 1, epoch 1, stage train)\n",
      "1/1 * Epoch (test): 100% 100/100 [06:55<00:00,  4.15s/it]\n"
     ]
    }
   ],
   "source": [
    "# and running inference\n",
    "torch.cuda.empty_cache()\n",
    "runner.infer(\n",
    "    model=model,\n",
    "    loaders=test_loaders,\n",
    "    callbacks=[\n",
    "        CheckpointCallback(\n",
    "            resume=f\"{params['training']['log_dir']}/checkpoints/best.pth\"\n",
    "        ),\n",
    "        InferCallback(),\n",
    "    ],\n",
    "    verbose=True,\n",
    ")\n",
    "\n",
    "# lastly, saving predicted scores for the test set\n",
    "predicted_scores = runner.callbacks[0].predictions[\"logits\"]\n",
    "np.savetxt(X=predicted_scores, fname=params[\"data\"][\"path_to_test_finetuned\"])"
   ]
  },
  {
   "cell_type": "markdown",
   "metadata": {},
   "source": [
    "## Metrics analysis"
   ]
  },
  {
   "cell_type": "code",
   "execution_count": 18,
   "metadata": {
    "ExecuteTime": {
     "end_time": "2021-04-03T19:49:42.743492Z",
     "start_time": "2021-04-03T19:49:42.739202Z"
    }
   },
   "outputs": [],
   "source": [
    "# retrieve labels from data loaders\n",
    "true_predictions = test_data['label'].tolist()"
   ]
  },
  {
   "cell_type": "code",
   "execution_count": 24,
   "metadata": {
    "ExecuteTime": {
     "end_time": "2021-04-03T19:51:12.863141Z",
     "start_time": "2021-04-03T19:51:12.727140Z"
    }
   },
   "outputs": [
    {
     "name": "stdout",
     "output_type": "stream",
     "text": [
      "Best Threshold: 0.4994 with F-Score: 0.4367\n",
      "Recall: 0.5368, Precision: 0.3681\n",
      "\n",
      "(With best threshold) Accuracy: 0.91, F1: 0.44\n"
     ]
    },
    {
     "data": {
      "image/png": "[encoded data removed]",
      "text/plain": [
       "<Figure size 504x504 with 1 Axes>"
      ]
     },
     "metadata": {
      "needs_background": "light"
     },
     "output_type": "display_data"
    }
   ],
   "source": [
    "zero_shot_probs = [max(pred.values()) for pred in zero_shot_predictions]\n",
    "zero_shot_rec, zero_shot_pr = get_report(true_predictions, zero_shot_probs)"
   ]
  },
  {
   "cell_type": "code",
   "execution_count": 19,
   "metadata": {
    "ExecuteTime": {
     "end_time": "2021-04-03T19:49:45.515855Z",
     "start_time": "2021-04-03T19:49:45.383337Z"
    },
    "scrolled": false
   },
   "outputs": [
    {
     "name": "stdout",
     "output_type": "stream",
     "text": [
      "Best Threshold: 0.29820001125335693 with F-Score: 0.7191\n",
      "Recall: 0.7387, Precision: 0.7005\n",
      "\n",
      "(With best threshold) Accuracy: 0.96, F1: 0.72\n"
     ]
    },
    {
     "data": {
      "image/png": "[encoded data removed]",
      "text/plain": [
       "<Figure size 504x504 with 1 Axes>"
      ]
     },
     "metadata": {
      "needs_background": "light"
     },
     "output_type": "display_data"
    }
   ],
   "source": [
    "finetuned_probs = softmax(predicted_scores, axis=1)[:, 1]\n",
    "finetuned_rec, finetuned_pr = get_report(true_predictions, finetuned_probs)"
   ]
  },
  {
   "cell_type": "code",
   "execution_count": 26,
   "metadata": {
    "ExecuteTime": {
     "end_time": "2021-04-03T19:51:48.856878Z",
     "start_time": "2021-04-03T19:51:48.732969Z"
    }
   },
   "outputs": [
    {
     "data": {
      "image/png": "[encoded data removed]",
      "text/plain": [
       "<Figure size 504x504 with 1 Axes>"
      ]
     },
     "metadata": {
      "needs_background": "light"
     },
     "output_type": "display_data"
    }
   ],
   "source": [
    "plt.figure(figsize=(7, 7))\n",
    "\n",
    "plt.plot(zero_shot_rec, zero_shot_pr, c='r', label='Non-tuned')\n",
    "plt.plot(finetuned_rec, finetuned_pr, c='b', label='Tuned')\n",
    "\n",
    "plt.xlabel('Recall')\n",
    "plt.ylabel('Precision')\n",
    "\n",
    "plt.legend()\n",
    "plt.show()"
   ]
  },
  {
   "cell_type": "markdown",
   "metadata": {},
   "source": [
    "## Conclusion\n",
    "Как видно из сравнения метрик - `zero-shot-classification` показывает более низкое качество, нежели дообученная модель."
   ]
  },
  {
   "cell_type": "code",
   "execution_count": null,
   "metadata": {},
   "outputs": [],
   "source": []
  }
 ],
 "metadata": {
  "kernelspec": {
   "display_name": "Python 3",
   "language": "python",
   "name": "python3"
  },
  "language_info": {
   "codemirror_mode": {
    "name": "ipython",
    "version": 3
   },
   "file_extension": ".py",
   "mimetype": "text/x-python",
   "name": "python",
   "nbconvert_exporter": "python",
   "pygments_lexer": "ipython3",
   "version": "3.8.3"
  }
 },
 "nbformat": 4,
 "nbformat_minor": 4
}

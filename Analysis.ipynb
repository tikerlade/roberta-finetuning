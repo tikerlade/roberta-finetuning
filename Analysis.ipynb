{
 "cells": [
  {
   "cell_type": "markdown",
   "metadata": {},
   "source": [
    "## Анализ результатов (сравнение метрик)\n",
    "В качестве метрики для оценки в задании было предложено использовать `Accuracy`, что мы и оценим. Однако я хочу оценить также и `F1-score` из-за того, что в данных заметен значительный дизбаланс и метрика `Accuracy` будет нам \"льстить\".\n",
    "\n",
    "| Negative (0)  | Positive (1)  |\n",
    "| ------------- |:-------------:|\n",
    "| 29753         | 2209          |\n",
    "| 0.93          | 0.07          |\n",
    "\n",
    "\n",
    "Для начала посмотрим, какие результаты показывает алгоритм до дообучения. И выберем подходящий treshold для того, чтобы производить классификацию."
   ]
  },
  {
   "cell_type": "markdown",
   "metadata": {},
   "source": [
    "### Imports & settings"
   ]
  },
  {
   "cell_type": "code",
   "execution_count": 1,
   "metadata": {
    "ExecuteTime": {
     "end_time": "2021-04-03T17:11:37.299486Z",
     "start_time": "2021-04-03T17:11:35.320749Z"
    }
   },
   "outputs": [],
   "source": [
    "from pathlib import Path\n",
    "\n",
    "import numpy as np\n",
    "from tqdm.notebook import tqdm\n",
    "from sklearn.metrics import accuracy_score, precision_recall_curve, roc_auc_score, f1_score\n",
    "from matplotlib import pyplot as plt\n",
    "from scipy.special import softmax\n",
    "\n",
    "import json\n",
    "import yaml\n",
    "\n",
    "# Local imports\n",
    "from model import RoBERTaClassification\n",
    "from data import read_data"
   ]
  },
  {
   "cell_type": "code",
   "execution_count": 2,
   "metadata": {
    "ExecuteTime": {
     "end_time": "2021-04-03T17:11:37.312654Z",
     "start_time": "2021-04-03T17:11:37.302068Z"
    }
   },
   "outputs": [],
   "source": [
    "with open(\"config.yml\") as f:\n",
    "    params = yaml.load(f, Loader=yaml.FullLoader)"
   ]
  },
  {
   "cell_type": "code",
   "execution_count": 3,
   "metadata": {
    "ExecuteTime": {
     "end_time": "2021-04-03T17:11:37.972466Z",
     "start_time": "2021-04-03T17:11:37.964199Z"
    }
   },
   "outputs": [
    {
     "data": {
      "text/html": [
       "\n",
       "<style>\n",
       ".output_png {\n",
       "    display: table-cell;\n",
       "    text-align: center;\n",
       "    vertical-align: middle;\n",
       "}\n",
       "</style>\n"
      ],
      "text/plain": [
       "<IPython.core.display.HTML object>"
      ]
     },
     "execution_count": 3,
     "metadata": {},
     "output_type": "execute_result"
    }
   ],
   "source": [
    "from IPython.core.display import HTML\n",
    "HTML(\"\"\"\n",
    "<style>\n",
    ".output_png {\n",
    "    display: table-cell;\n",
    "    text-align: center;\n",
    "    vertical-align: middle;\n",
    "}\n",
    "</style>\n",
    "\"\"\")"
   ]
  },
  {
   "cell_type": "code",
   "execution_count": 6,
   "metadata": {
    "ExecuteTime": {
     "end_time": "2021-04-03T17:11:47.825275Z",
     "start_time": "2021-04-03T17:11:47.814981Z"
    }
   },
   "outputs": [],
   "source": [
    "def get_best_threshold(y_true, pred_probs):\n",
    "    precision, recall, thresholds = precision_recall_curve(y_true, pred_probs)\n",
    "    fscore = (2 * precision * recall) / (precision + recall)\n",
    "\n",
    "    # Find the optimal threshold\n",
    "    index = np.argmax(fscore)\n",
    "    thresholdOpt = round(thresholds[index], ndigits = 4)\n",
    "    fscoreOpt = round(fscore[index], ndigits = 4)\n",
    "    recallOpt = round(recall[index], ndigits = 4)\n",
    "    precisionOpt = round(precision[index], ndigits = 4)\n",
    "    print('Best Threshold: {} with F-Score: {}'.format(thresholdOpt, fscoreOpt))\n",
    "    print('Recall: {}, Precision: {}'.format(recallOpt, precisionOpt))\n",
    "    \n",
    "    return thresholdOpt\n",
    "    \n",
    "\n",
    "def plot_pr_curve(y_true, pred_probs):\n",
    "    pr, rec, thr = precision_recall_curve(y_true, pred_probs)\n",
    "    auc = roc_auc_score(y_true, pred_probs)\n",
    "\n",
    "    plt.figure(figsize=(7, 7))\n",
    "    plt.plot(rec, pr)\n",
    "\n",
    "    plt.xlabel('Recall')\n",
    "    plt.ylabel('Precision')\n",
    "    plt.title(f'AUC: {auc}')\n",
    "\n",
    "    plt.show()\n",
    "    \n",
    "    return rec, pr\n",
    "    \n",
    "def get_report(y_true, pred_probs):\n",
    "    threshold = get_best_threshold(y_true, pred_probs)\n",
    "\n",
    "    class_predictions = [int(prob > threshold) for prob in pred_probs]\n",
    "    print('\\n(With best threshold) Accuracy: %.2f, F1: %.2f' % (accuracy_score(y_true, class_predictions),\n",
    "                                   f1_score(y_true, class_predictions)))\n",
    "\n",
    "    return plot_pr_curve(y_true, pred_probs)"
   ]
  },
  {
   "cell_type": "markdown",
   "metadata": {},
   "source": [
    "### Before fine-tuning"
   ]
  },
  {
   "cell_type": "code",
   "execution_count": 9,
   "metadata": {
    "ExecuteTime": {
     "end_time": "2021-04-03T17:11:53.001696Z",
     "start_time": "2021-04-03T17:11:52.983285Z"
    }
   },
   "outputs": [],
   "source": [
    "with open(\"data/output/before_fine_tuning.txt\", 'r') as fin:\n",
    "    non_finetuned_data = json.load(fin)\n",
    "\n",
    "non_finetuned_predictions = [max(pred.values()) for pred in non_finetuned_data]"
   ]
  },
  {
   "cell_type": "code",
   "execution_count": 10,
   "metadata": {
    "ExecuteTime": {
     "end_time": "2021-04-03T17:11:53.251594Z",
     "start_time": "2021-04-03T17:11:53.239689Z"
    },
    "scrolled": false
   },
   "outputs": [
    {
     "ename": "NameError",
     "evalue": "name 'results' is not defined",
     "output_type": "error",
     "traceback": [
      "\u001b[0;31m---------------------------------------------------------------------------\u001b[0m",
      "\u001b[0;31mNameError\u001b[0m                                 Traceback (most recent call last)",
      "\u001b[0;32m<ipython-input-10-1ffa97edcfe4>\u001b[0m in \u001b[0;36m<module>\u001b[0;34m\u001b[0m\n\u001b[0;32m----> 1\u001b[0;31m \u001b[0mnon_finetuned_rec\u001b[0m\u001b[0;34m,\u001b[0m \u001b[0mnon_finetuned_pr\u001b[0m \u001b[0;34m=\u001b[0m \u001b[0mget_report\u001b[0m\u001b[0;34m(\u001b[0m\u001b[0mresults\u001b[0m\u001b[0;34m,\u001b[0m \u001b[0mnon_finetuned_predictions\u001b[0m\u001b[0;34m)\u001b[0m\u001b[0;34m\u001b[0m\u001b[0;34m\u001b[0m\u001b[0m\n\u001b[0m",
      "\u001b[0;31mNameError\u001b[0m: name 'results' is not defined"
     ]
    }
   ],
   "source": [
    "non_finetuned_rec, non_finetuned_pr = get_report(results, non_finetuned_predictions)"
   ]
  },
  {
   "cell_type": "markdown",
   "metadata": {},
   "source": [
    "### After fine-tuning"
   ]
  },
  {
   "cell_type": "code",
   "execution_count": 14,
   "metadata": {
    "ExecuteTime": {
     "end_time": "2021-04-03T18:19:10.847476Z",
     "start_time": "2021-04-03T18:19:10.791359Z"
    }
   },
   "outputs": [],
   "source": [
    "finetuned_predicions = np.loadtxt(fname=params[\"data\"][\"path_to_test_finetuned\"])\n",
    "finetuned_probs = softmax(finetuned_predicions, axis=1)[:, 1]\n",
    "# finetuned_rec, finetuned_pr = get_report(results, finetuned_probs)"
   ]
  },
  {
   "cell_type": "code",
   "execution_count": 15,
   "metadata": {
    "ExecuteTime": {
     "end_time": "2021-04-03T18:19:18.645009Z",
     "start_time": "2021-04-03T18:19:18.639263Z"
    }
   },
   "outputs": [
    {
     "data": {
      "text/plain": [
       "array([[9.99990106e-01, 9.95251503e-06],\n",
       "       [9.99990106e-01, 9.91000798e-06],\n",
       "       [9.99989629e-01, 1.04146748e-05],\n",
       "       ...,\n",
       "       [9.99990582e-01, 9.44423209e-06],\n",
       "       [9.99990225e-01, 9.73590159e-06],\n",
       "       [9.99989867e-01, 1.01229216e-05]])"
      ]
     },
     "execution_count": 15,
     "metadata": {},
     "output_type": "execute_result"
    }
   ],
   "source": [
    "finetuned_predicions"
   ]
  },
  {
   "cell_type": "markdown",
   "metadata": {},
   "source": [
    "## Both on the same plot"
   ]
  },
  {
   "cell_type": "code",
   "execution_count": 68,
   "metadata": {
    "ExecuteTime": {
     "end_time": "2021-04-02T09:41:37.750915Z",
     "start_time": "2021-04-02T09:41:37.626799Z"
    }
   },
   "outputs": [
    {
     "data": {
      "image/png": "[encoded data removed]",
      "text/plain": [
       "<Figure size 504x504 with 1 Axes>"
      ]
     },
     "metadata": {
      "needs_background": "light"
     },
     "output_type": "display_data"
    }
   ],
   "source": [
    "plt.figure(figsize=(7, 7))\n",
    "\n",
    "plt.plot(non_finetuned_rec, non_finetuned_pr, c='r', label='Non-tuned')\n",
    "plt.plot(finetuned_rec, finetuned_pr, c='b', label='Tuned')\n",
    "\n",
    "plt.xlabel('Recall')\n",
    "plt.ylabel('Precision')\n",
    "\n",
    "plt.legend()\n",
    "plt.show()"
   ]
  },
  {
   "cell_type": "code",
   "execution_count": null,
   "metadata": {},
   "outputs": [],
   "source": []
  }
 ],
 "metadata": {
  "kernelspec": {
   "display_name": "Python 3",
   "language": "python",
   "name": "python3"
  },
  "language_info": {
   "codemirror_mode": {
    "name": "ipython",
    "version": 3
   },
   "file_extension": ".py",
   "mimetype": "text/x-python",
   "name": "python",
   "nbconvert_exporter": "python",
   "pygments_lexer": "ipython3",
   "version": "3.8.3"
  }
 },
 "nbformat": 4,
 "nbformat_minor": 4
}
